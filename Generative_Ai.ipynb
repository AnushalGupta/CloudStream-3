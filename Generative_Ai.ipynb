{
  "cells": [
    {
      "cell_type": "markdown",
      "metadata": {
        "id": "view-in-github",
        "colab_type": "text"
      },
      "source": [
        "<a href=\"https://colab.research.google.com/github/AnushalGupta/CloudStream-3/blob/master/Generative_Ai.ipynb\" target=\"_parent\"><img src=\"https://colab.research.google.com/assets/colab-badge.svg\" alt=\"Open In Colab\"/></a>"
      ]
    },
    {
      "cell_type": "code",
      "execution_count": null,
      "metadata": {
        "id": "U_Rafr4VPJ0k"
      },
      "outputs": [],
      "source": [
        "import torch\n",
        "from diffusers import StableDiffusionPipeline\n",
        "from PIL import Image, ImageEnhance\n",
        "from IPython.display import display\n",
        "\n",
        "# Initialize the pipeline\n",
        "pipe = StableDiffusionPipeline.from_pretrained(\"CompVis/stable-diffusion-v1-4\", torch_dtype=torch.float16)\n",
        "pipe.to(\"cuda\")  # Move model to GPU if available\n",
        "pipe.enable_model_cpu_offload()\n",
        "\n",
        "# Function to generate and enhance image\n",
        "def generate_and_enhance_image(prompt):\n",
        "    try:\n",
        "        with torch.no_grad():\n",
        "            # Generate high-resolution image\n",
        "            image = pipe(\n",
        "                prompt,\n",
        "                height=1024,\n",
        "                width=1024,\n",
        "                guidance_scale=3.5,\n",
        "                num_inference_steps=200,\n",
        "                generator=torch.Generator(\"cpu\").manual_seed(0)\n",
        "            ).images[0]\n",
        "\n",
        "            # Display image before enhancement\n",
        "            print(f\"Image type: {type(image)}\")\n",
        "            print(f\"Image size: {image.size}\")\n",
        "            display(image)\n",
        "\n",
        "            # Enhance image\n",
        "            enhancer = ImageEnhance.Sharpness(image)\n",
        "            image = enhancer.enhance(2.0)  # Increase sharpness\n",
        "\n",
        "            # Save enhanced image\n",
        "            output_path = \"/content/enhanced_image.png\"\n",
        "            image.save(output_path)\n",
        "            print(f\"Enhanced image saved to {output_path}\")\n",
        "\n",
        "    except Exception as e:\n",
        "        print(f\"An error occurred: {e}\")\n",
        "\n",
        "# Generate and enhance image\n",
        "generate_and_enhance_image(input(\"Enter text to convert into Image => \"))\n",
        "\n",
        "# Clear CUDA cache if needed\n",
        "torch.cuda.empty_cache()\n"
      ]
    }
  ],
  "metadata": {
    "accelerator": "GPU",
    "colab": {
      "gpuType": "T4",
      "provenance": [],
      "authorship_tag": "ABX9TyPOhfdl9FvyDLjI7mLvbs7M",
      "include_colab_link": true
    },
    "kernelspec": {
      "display_name": "Python 3",
      "name": "python3"
    },
    "language_info": {
      "name": "python"
    }
  },
  "nbformat": 4,
  "nbformat_minor": 0
}